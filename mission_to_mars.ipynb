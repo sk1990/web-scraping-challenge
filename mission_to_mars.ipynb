{
 "cells": [
  {
   "cell_type": "code",
   "execution_count": 1,
   "metadata": {
    "colab": {},
    "colab_type": "code",
    "id": "HMZr2M0m9R7N"
   },
   "outputs": [],
   "source": [
    "import os\n",
    "\n",
    "import numpy as np\n",
    "import pandas as pd\n",
    "\n",
    "import requests\n",
    "from bs4 import BeautifulSoup"
   ]
  },
  {
   "cell_type": "code",
   "execution_count": 2,
   "metadata": {
    "colab": {},
    "colab_type": "code",
    "id": "VNg8ZWs--Mkw"
   },
   "outputs": [],
   "source": [
    "URL = \"https://mars.nasa.gov/news/\""
   ]
  },
  {
   "cell_type": "code",
   "execution_count": 3,
   "metadata": {
    "colab": {},
    "colab_type": "code",
    "id": "zrSQaW-z-Xdj"
   },
   "outputs": [],
   "source": [
    "res = requests.get(URL)\n",
    "soup = BeautifulSoup(res.content, 'html.parser')\n",
    "\n",
    "headings = soup.find_all('div', class_='content_title')\n",
    "desciptions = soup.find_all('div', class_=\"rollover_description_inner\")\n",
    "images = soup.find_all('img', class_=\"img-lazy\")"
   ]
  },
  {
   "cell_type": "code",
   "execution_count": 17,
   "metadata": {
    "colab": {
     "base_uri": "https://localhost:8080/",
     "height": 241
    },
    "colab_type": "code",
    "id": "_3RKysy-ADh2",
    "outputId": "d842f9bc-3906-455d-a16b-21f49d1e5a7b"
   },
   "outputs": [
    {
     "data": {
      "text/plain": [
       "[['\\n\\nNASA to Broadcast Mars 2020 Perseverance Launch, Prelaunch Activities\\n\\n',\n",
       "  '\\nStarting July 27, news activities will cover everything from mission engineering and science to returning samples from Mars to, of course, the launch itself.\\n',\n",
       "  '/system/news_items/list_view_images/8716_PIA23499-320x240.jpg'],\n",
       " [\"\\n\\nThe Launch Is Approaching for NASA's Next Mars Rover, Perseverance\\n\\n\",\n",
       "  \"\\nThe Red Planet's surface has been visited by eight NASA spacecraft. The ninth will be the first that includes a roundtrip ticket in its flight plan. \\n\",\n",
       "  '/system/news_items/list_view_images/8695_24732_PIA23499-226.jpg'],\n",
       " ['\\n\\nNASA to Hold Mars 2020 Perseverance Rover Launch Briefing\\n\\n',\n",
       "  \"\\nLearn more about the agency's next Red Planet mission during a live event on June 17.\\n\",\n",
       "  '/system/news_items/list_view_images/8692_PIA23920-320x240.jpg'],\n",
       " [\"\\n\\nAlabama High School Student Names NASA's Mars Helicopter\\n\\n\",\n",
       "  \"\\nVaneeza Rupani's essay was chosen as the name for the small spacecraft, which will mark NASA's first attempt at powered flight on another planet.\\n\",\n",
       "  '/system/news_items/list_view_images/8659_1-PIA23883-MAIN-320x240.jpg'],\n",
       " [\"\\n\\nMars Helicopter Attached to NASA's Perseverance Rover\\n\\n\",\n",
       "  \"\\nThe team also fueled the rover's sky crane to get ready for this summer's history-making launch.\\n\",\n",
       "  '/system/news_items/list_view_images/8645_PIA23824-RoverWithHelicopter-32x24.jpg'],\n",
       " [\"\\n\\nNASA's Perseverance Mars Rover Gets Its Wheels and Air Brakes\\n\\n\",\n",
       "  '\\nAfter the rover was shipped from JPL to Kennedy Space Center, the team is getting closer to finalizing the spacecraft for launch later this summer.\\n',\n",
       "  '/system/news_items/list_view_images/8641_PIA-23821-320x240.jpg']]"
      ]
     },
     "execution_count": 17,
     "metadata": {},
     "output_type": "execute_result"
    }
   ],
   "source": [
    "news = []\n",
    "\n",
    "for i in range( len(headings) ):\n",
    "    news.append( [headings[i].text, desciptions[i].text, images[i].get('data-lazy')] )\n",
    "\n",
    "news"
   ]
  },
  {
   "cell_type": "code",
   "execution_count": 5,
   "metadata": {
    "colab": {},
    "colab_type": "code",
    "id": "o0jgNN9fBE-i"
   },
   "outputs": [],
   "source": [
    "URL = \"https://space-facts.com/mars/\""
   ]
  },
  {
   "cell_type": "code",
   "execution_count": 6,
   "metadata": {
    "colab": {
     "base_uri": "https://localhost:8080/",
     "height": 205
    },
    "colab_type": "code",
    "id": "YXOlMUWzDYOu",
    "outputId": "2949aec7-9746-45b8-d8eb-4ccb9f006381"
   },
   "outputs": [
    {
     "data": {
      "text/plain": [
       "'<table border=\"1\" class=\"dataframe\">\\n  <thead>\\n    <tr style=\"text-align: right;\">\\n      <th></th>\\n      <th>Property</th>\\n      <th>Value</th>\\n    </tr>\\n  </thead>\\n  <tbody>\\n    <tr>\\n      <th>0</th>\\n      <td>Equatorial Diameter:</td>\\n      <td>6,792 km</td>\\n    </tr>\\n    <tr>\\n      <th>1</th>\\n      <td>Polar Diameter:</td>\\n      <td>6,752 km</td>\\n    </tr>\\n    <tr>\\n      <th>2</th>\\n      <td>Mass:</td>\\n      <td>6.39 × 10^23 kg (0.11 Earths)</td>\\n    </tr>\\n    <tr>\\n      <th>3</th>\\n      <td>Moons:</td>\\n      <td>2 (Phobos &amp; Deimos)</td>\\n    </tr>\\n    <tr>\\n      <th>4</th>\\n      <td>Orbit Distance:</td>\\n      <td>227,943,824 km (1.38 AU)</td>\\n    </tr>\\n    <tr>\\n      <th>5</th>\\n      <td>Orbit Period:</td>\\n      <td>687 days (1.9 years)</td>\\n    </tr>\\n    <tr>\\n      <th>6</th>\\n      <td>Surface Temperature:</td>\\n      <td>-87 to -5 °C</td>\\n    </tr>\\n    <tr>\\n      <th>7</th>\\n      <td>First Record:</td>\\n      <td>2nd millennium BC</td>\\n    </tr>\\n    <tr>\\n      <th>8</th>\\n      <td>Recorded By:</td>\\n      <td>Egyptian astronomers</td>\\n    </tr>\\n  </tbody>\\n</table>'"
      ]
     },
     "execution_count": 6,
     "metadata": {},
     "output_type": "execute_result"
    }
   ],
   "source": [
    "tables = pd.read_html(URL)\n",
    "df = tables[0]\n",
    "df.columns = ['Property', 'Value']\n",
    "df.to_html()"
   ]
  },
  {
   "cell_type": "code",
   "execution_count": 7,
   "metadata": {
    "colab": {},
    "colab_type": "code",
    "id": "HldHzuNgDiAL"
   },
   "outputs": [],
   "source": [
    "URL = \"https://astrogeology.usgs.gov/search/results?q=hemisphere+enhanced&k1=target&v1=Mars\""
   ]
  },
  {
   "cell_type": "code",
   "execution_count": 8,
   "metadata": {
    "colab": {
     "base_uri": "https://localhost:8080/",
     "height": 85
    },
    "colab_type": "code",
    "id": "AB35KlhnETSn",
    "outputId": "8c1949f0-3be2-474b-d7d5-4dd4ce94d401"
   },
   "outputs": [
    {
     "data": {
      "text/plain": [
       "['Cerberus Hemisphere Enhanced',\n",
       " 'Schiaparelli Hemisphere Enhanced',\n",
       " 'Syrtis Major Hemisphere Enhanced',\n",
       " 'Valles Marineris Hemisphere Enhanced']"
      ]
     },
     "execution_count": 8,
     "metadata": {},
     "output_type": "execute_result"
    }
   ],
   "source": [
    "res = requests.get(URL)\n",
    "soup = BeautifulSoup(res.content, 'html.parser')\n",
    "\n",
    "link_names = list()\n",
    "links = soup.find_all('h3')\n",
    "\n",
    "for link in links:\n",
    "    link_names.append(link.text)\n",
    "    \n",
    "link_names\n"
   ]
  },
  {
   "cell_type": "code",
   "execution_count": 9,
   "metadata": {
    "colab": {
     "base_uri": "https://localhost:8080/",
     "height": 105
    },
    "colab_type": "code",
    "id": "pe4FTygCE6Db",
    "outputId": "fe4fd9ce-aa9f-4320-e5d8-c8cb4c7fea54"
   },
   "outputs": [
    {
     "data": {
      "text/plain": [
       "{'Cerberus Hemisphere Enhanced': 'https://astrogeology.usgs.gov/search/map/Mars/Viking/cerberus_enhanced',\n",
       " 'Schiaparelli Hemisphere Enhanced': 'https://astrogeology.usgs.gov/search/map/Mars/Viking/schiaparelli_enhanced',\n",
       " 'Syrtis Major Hemisphere Enhanced': 'https://astrogeology.usgs.gov/search/map/Mars/Viking/syrtis_major_enhanced',\n",
       " 'Valles Marineris Hemisphere Enhanced': 'https://astrogeology.usgs.gov/search/map/Mars/Viking/valles_marineris_enhanced'}"
      ]
     },
     "execution_count": 9,
     "metadata": {},
     "output_type": "execute_result"
    }
   ],
   "source": [
    "links = {}\n",
    "temp = soup.find_all('a', class_=\"itemLink product-item\")\n",
    "\n",
    "\n",
    "for i in range(4):\n",
    "    links[ link_names[i] ] = \"https://astrogeology.usgs.gov\" + temp[i].get(\"href\")\n",
    "\n",
    "\n",
    "links"
   ]
  },
  {
   "cell_type": "code",
   "execution_count": 16,
   "metadata": {
    "colab": {
     "base_uri": "https://localhost:8080/",
     "height": 69
    },
    "colab_type": "code",
    "id": "_2Lgt6yJ5Lim",
    "outputId": "1d45ce3b-62fe-4780-f96c-720a07d5a54b"
   },
   "outputs": [
    {
     "data": {
      "text/plain": [
       "'InSight sol 597 (2020-08-01) low -91.0ºC (-131.8ºF) high -16.9ºC (1.6ºF)\\nwinds from the WNW at 8.0 m/s (17.9 mph) gusting to 20.2 m/s (45.1 mph)\\npressure at 7.90 hPa pic.twitter.com/fqq33JqTNy'"
      ]
     },
     "execution_count": 16,
     "metadata": {},
     "output_type": "execute_result"
    }
   ],
   "source": [
    "from twitter_scraper import get_tweets\n",
    "\n",
    "for tweet in get_tweets('marswxreport', pages=1):\n",
    "    latest = tweet['text']\n",
    "    break\n",
    "\n",
    "latest"
   ]
  },
  {
   "cell_type": "code",
   "execution_count": null,
   "metadata": {},
   "outputs": [],
   "source": []
  }
 ],
 "metadata": {
  "colab": {
   "name": "mission_to_mars.ipynb",
   "provenance": []
  },
  "kernelspec": {
   "display_name": "Python [conda env:PythonData] *",
   "language": "python",
   "name": "conda-env-PythonData-py"
  },
  "language_info": {
   "codemirror_mode": {
    "name": "ipython",
    "version": 3
   },
   "file_extension": ".py",
   "mimetype": "text/x-python",
   "name": "python",
   "nbconvert_exporter": "python",
   "pygments_lexer": "ipython3",
   "version": "3.8.3"
  }
 },
 "nbformat": 4,
 "nbformat_minor": 1
}
